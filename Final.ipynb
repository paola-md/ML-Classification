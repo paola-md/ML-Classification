{
 "cells": [
  {
   "cell_type": "markdown",
   "metadata": {},
   "source": [
    "# Exploring Machine Learning\n",
    "## Household Poverty Level Prediction\n",
    "\n",
    "### Bernardo, Agustin and Paola\n",
    "\n",
    "#### Domain \n",
    "\n",
    "The Inter-American Development Bank is a financial institution dedicated to reducing poverty and inequality in Latin America and the Caribbean. The IDM Bank fights poverty through a wide arrange of methods, one of which is low income assistance program for those in need. Determining which houses need what level of assistance falls to different predictive algorithms. The domain of our project is “poverty level analysis of households in need”.\n",
    "\n",
    "#### Motivation\n",
    "\n",
    "World wide poverty and inequality are some of the most pressing problems in our time. Around the globe hunger and disease strike those who are the most vulnerable, the poor. Institutions like the IDM Bank or similar dedicate themselves to find ways to provide assistance to those in need. Through financial aid, families stricken by poverty can find opportunities to rise above the conditions around them. Nonetheless, money is not an infinite resource, and finding out who what families need these aids the most is an important issue. Different methods are used to determine what level of aid a family needs or doesn’t, the most popular being PMT (Proxy Means Test). Accuracy is of the most importance when it comes to these sensitive topics, our motivation is to improve over this method so as to help those who are most vulnerable. \n",
    "\n",
    "#### Task, Performance and Evaluation\n",
    "\n",
    "The task is to classify households with different levels of need on a scale from 1 to 4, 1 being in dire need of assistance and 4 being not in need of assistance. Our performance will be evaluated on the ability of our chosen classifier to order the households in the database.\n",
    "\n",
    "#### Data\n",
    "\n",
    "Our dataset consists of household characteristics from a representative sample of Costa Rican Households. \n",
    "9557 rows and 143 columns.The dataset has observations for each member of the household but classification is done at the household level.\n",
    "\n",
    "#### Methodology\n",
    "\n",
    "To accomplish our task, our methodology was:\n",
    "- Data cleaning:\n",
    "    - We cleaned the data, correcting incongruencies and ordering the features\n",
    "- Classifiers tryout\n",
    "    - We tried several classificators side by side and concluded the Random Forest Classifiers was the best one\n",
    "- Further RFC Analysis\n",
    "    - We dove into the way the Random Forest Classifiers works, further analizing what mistakes it made and what features had the most weight in its classification\n",
    "- Feature Engineering\n",
    "    - We engineered a couple of features so as to try to improve its performance, and tried different combinations of the most important features to see what result it would have on the classification\n",
    "   \n",
    "    "
   ]
  },
  {
   "cell_type": "markdown",
   "metadata": {},
   "source": [
    "## Data Cleaning\n",
    "Data can be found in:\n",
    "https://www.kaggle.com/c/costa-rican-household-poverty-prediction/data\n",
    "\n",
    "The first step was loading the data in order to clean it by handling null values and columns type object. "
   ]
  },
  {
   "cell_type": "code",
   "execution_count": 1,
   "metadata": {},
   "outputs": [],
   "source": [
    "import pandas as pd\n",
    "import numpy as np\n",
    "import matplotlib.pyplot as plt\n",
    "import warnings\n",
    "import seaborn as sns\n",
    "\n",
    "warnings.filterwarnings('ignore')\n",
    "\n",
    "%matplotlib inline"
   ]
  },
  {
   "cell_type": "code",
   "execution_count": 2,
   "metadata": {},
   "outputs": [],
   "source": [
    "data = pd.read_csv('train.csv')"
   ]
  },
  {
   "cell_type": "markdown",
   "metadata": {},
   "source": [
    "### Object data\n",
    "A few columns ('Id', 'idhogar', 'dependency', 'edjefe', 'edjefa') are type object. "
   ]
  },
  {
   "cell_type": "code",
   "execution_count": 3,
   "metadata": {},
   "outputs": [
    {
     "data": {
      "text/plain": [
       "Index(['Id', 'idhogar', 'dependency', 'edjefe', 'edjefa'], dtype='object')"
      ]
     },
     "execution_count": 3,
     "metadata": {},
     "output_type": "execute_result"
    }
   ],
   "source": [
    "data.columns[data.dtypes==object]"
   ]
  },
  {
   "cell_type": "code",
   "execution_count": 4,
   "metadata": {},
   "outputs": [],
   "source": [
    "#Dependency\n",
    "#There were a few 'no' and 'yes' values \n",
    "#Those values in SQBdependency were replaced by 0 and 1 \n",
    "data[(data['dependency']=='no') & (data['SQBdependency']!=0)] #Empty\n",
    "data[(data['dependency']=='yes') & (data['SQBdependency']!=1)] #Empty\n",
    "data['dependency']=np.sqrt(data['SQBdependency'])\n",
    "\n",
    "#Edjefe: Years of education male leader \n",
    "data['edjefe']=np.sqrt(data['SQBedjefe'])\n",
    "\n",
    "#Edjefa: Years of education female leader \n",
    "data.loc[data.edjefa =='no', 'edjefa'] = '0' \n",
    "data.loc[data.edjefa =='yes', 'edjefa'] = '1'\n"
   ]
  },
  {
   "cell_type": "markdown",
   "metadata": {},
   "source": [
    "### Missing data"
   ]
  },
  {
   "cell_type": "code",
   "execution_count": 5,
   "metadata": {},
   "outputs": [
    {
     "data": {
      "text/plain": [
       "Index(['v2a1', 'v18q1', 'rez_esc', 'meaneduc', 'SQBmeaned'], dtype='object')"
      ]
     },
     "execution_count": 5,
     "metadata": {},
     "output_type": "execute_result"
    }
   ],
   "source": [
    "data.columns[data.isnull().sum()!=0]"
   ]
  },
  {
   "cell_type": "code",
   "execution_count": 6,
   "metadata": {},
   "outputs": [],
   "source": [
    "#Behind in school\n",
    "data['rez_esc']=data['rez_esc'].fillna(0)\n",
    "\n",
    "#Number of tablets\n",
    "#The missing information means they do not have a tablet \n",
    "data['v18q1']=data['v18q1'].fillna(0)\n",
    "\n",
    "#Monthly rent payment\n",
    "#The missing values own a house so the rent is zero. \n",
    "data['v2a1']=data['v2a1'].fillna(0)\n",
    "\n",
    "#Mean education and Mean education squared\n",
    "#Assumption: Mean education and escolari are similar\n",
    "meaneduc_nan=data[data['meaneduc'].isnull()][['Id','idhogar','escolari']]\n",
    "me=meaneduc_nan.groupby('idhogar')['escolari'].mean().reset_index()\n",
    "for row in meaneduc_nan.iterrows():\n",
    "    idx=row[0]\n",
    "    idhogar=row[1]['idhogar']\n",
    "    m=me[me['idhogar']==idhogar]['escolari'].tolist()[0]\n",
    "    data.at[idx, 'meaneduc']=m\n",
    "    data.at[idx, 'SQBmeaned']=m*m"
   ]
  },
  {
   "cell_type": "markdown",
   "metadata": {},
   "source": [
    "## Learn the Models"
   ]
  },
  {
   "cell_type": "code",
   "execution_count": 7,
   "metadata": {},
   "outputs": [],
   "source": [
    "from sklearn.ensemble import RandomForestClassifier, BaggingClassifier, GradientBoostingClassifier, AdaBoostClassifier\n",
    "from sklearn.neighbors import KNeighborsClassifier\n",
    "from sklearn.naive_bayes import GaussianNB\n",
    "from sklearn.svm import SVC, LinearSVC\n",
    "from sklearn.linear_model import LogisticRegression\n",
    "from sklearn.neural_network import MLPClassifier\n",
    "from sklearn.multiclass import OneVsRestClassifier\n",
    "\n",
    "from sklearn.preprocessing import label_binarize\n",
    "from sklearn.model_selection import train_test_split, GridSearchCV\n",
    "from sklearn import datasets\n",
    "from sklearn import metrics\n"
   ]
  },
  {
   "cell_type": "code",
   "execution_count": 8,
   "metadata": {},
   "outputs": [],
   "source": [
    "X = data.drop(['Id', 'idhogar', 'Target'], axis=1)\n",
    "y = data['Target']\n",
    "X_train, X_test, y_train, y_test = train_test_split(X, y, test_size=0.2)\n",
    "\n",
    "expected = y_test"
   ]
  },
  {
   "cell_type": "code",
   "execution_count": 9,
   "metadata": {},
   "outputs": [
    {
     "data": {
      "text/html": [
       "<div>\n",
       "<style scoped>\n",
       "    .dataframe tbody tr th:only-of-type {\n",
       "        vertical-align: middle;\n",
       "    }\n",
       "\n",
       "    .dataframe tbody tr th {\n",
       "        vertical-align: top;\n",
       "    }\n",
       "\n",
       "    .dataframe thead th {\n",
       "        text-align: right;\n",
       "    }\n",
       "</style>\n",
       "<table border=\"1\" class=\"dataframe\">\n",
       "  <thead>\n",
       "    <tr style=\"text-align: right;\">\n",
       "      <th></th>\n",
       "      <th>v2a1</th>\n",
       "      <th>hacdor</th>\n",
       "      <th>rooms</th>\n",
       "      <th>hacapo</th>\n",
       "      <th>v14a</th>\n",
       "      <th>refrig</th>\n",
       "      <th>v18q</th>\n",
       "      <th>v18q1</th>\n",
       "      <th>r4h1</th>\n",
       "      <th>r4h2</th>\n",
       "      <th>...</th>\n",
       "      <th>age</th>\n",
       "      <th>SQBescolari</th>\n",
       "      <th>SQBage</th>\n",
       "      <th>SQBhogar_total</th>\n",
       "      <th>SQBedjefe</th>\n",
       "      <th>SQBhogar_nin</th>\n",
       "      <th>SQBovercrowding</th>\n",
       "      <th>SQBdependency</th>\n",
       "      <th>SQBmeaned</th>\n",
       "      <th>agesq</th>\n",
       "    </tr>\n",
       "  </thead>\n",
       "  <tbody>\n",
       "    <tr>\n",
       "      <th>4490</th>\n",
       "      <td>0.0</td>\n",
       "      <td>0</td>\n",
       "      <td>4</td>\n",
       "      <td>0</td>\n",
       "      <td>1</td>\n",
       "      <td>1</td>\n",
       "      <td>0</td>\n",
       "      <td>0.0</td>\n",
       "      <td>0</td>\n",
       "      <td>1</td>\n",
       "      <td>...</td>\n",
       "      <td>56</td>\n",
       "      <td>25</td>\n",
       "      <td>3136</td>\n",
       "      <td>25</td>\n",
       "      <td>1</td>\n",
       "      <td>4</td>\n",
       "      <td>6.250000</td>\n",
       "      <td>2.250000</td>\n",
       "      <td>25.0000</td>\n",
       "      <td>3136</td>\n",
       "    </tr>\n",
       "    <tr>\n",
       "      <th>6440</th>\n",
       "      <td>0.0</td>\n",
       "      <td>0</td>\n",
       "      <td>5</td>\n",
       "      <td>0</td>\n",
       "      <td>1</td>\n",
       "      <td>1</td>\n",
       "      <td>1</td>\n",
       "      <td>1.0</td>\n",
       "      <td>0</td>\n",
       "      <td>1</td>\n",
       "      <td>...</td>\n",
       "      <td>31</td>\n",
       "      <td>81</td>\n",
       "      <td>961</td>\n",
       "      <td>4</td>\n",
       "      <td>81</td>\n",
       "      <td>0</td>\n",
       "      <td>0.444444</td>\n",
       "      <td>0.000000</td>\n",
       "      <td>81.0000</td>\n",
       "      <td>961</td>\n",
       "    </tr>\n",
       "    <tr>\n",
       "      <th>3348</th>\n",
       "      <td>0.0</td>\n",
       "      <td>0</td>\n",
       "      <td>4</td>\n",
       "      <td>0</td>\n",
       "      <td>1</td>\n",
       "      <td>1</td>\n",
       "      <td>0</td>\n",
       "      <td>0.0</td>\n",
       "      <td>0</td>\n",
       "      <td>2</td>\n",
       "      <td>...</td>\n",
       "      <td>25</td>\n",
       "      <td>81</td>\n",
       "      <td>625</td>\n",
       "      <td>25</td>\n",
       "      <td>0</td>\n",
       "      <td>9</td>\n",
       "      <td>2.777778</td>\n",
       "      <td>2.250000</td>\n",
       "      <td>56.2500</td>\n",
       "      <td>625</td>\n",
       "    </tr>\n",
       "    <tr>\n",
       "      <th>1026</th>\n",
       "      <td>300000.0</td>\n",
       "      <td>0</td>\n",
       "      <td>8</td>\n",
       "      <td>0</td>\n",
       "      <td>1</td>\n",
       "      <td>1</td>\n",
       "      <td>1</td>\n",
       "      <td>3.0</td>\n",
       "      <td>0</td>\n",
       "      <td>1</td>\n",
       "      <td>...</td>\n",
       "      <td>30</td>\n",
       "      <td>196</td>\n",
       "      <td>900</td>\n",
       "      <td>25</td>\n",
       "      <td>121</td>\n",
       "      <td>1</td>\n",
       "      <td>1.000000</td>\n",
       "      <td>0.062500</td>\n",
       "      <td>150.0625</td>\n",
       "      <td>900</td>\n",
       "    </tr>\n",
       "    <tr>\n",
       "      <th>3278</th>\n",
       "      <td>250000.0</td>\n",
       "      <td>0</td>\n",
       "      <td>5</td>\n",
       "      <td>0</td>\n",
       "      <td>1</td>\n",
       "      <td>1</td>\n",
       "      <td>0</td>\n",
       "      <td>0.0</td>\n",
       "      <td>0</td>\n",
       "      <td>2</td>\n",
       "      <td>...</td>\n",
       "      <td>53</td>\n",
       "      <td>144</td>\n",
       "      <td>2809</td>\n",
       "      <td>16</td>\n",
       "      <td>144</td>\n",
       "      <td>1</td>\n",
       "      <td>1.777778</td>\n",
       "      <td>0.111111</td>\n",
       "      <td>225.0000</td>\n",
       "      <td>2809</td>\n",
       "    </tr>\n",
       "  </tbody>\n",
       "</table>\n",
       "<p>5 rows × 140 columns</p>\n",
       "</div>"
      ],
      "text/plain": [
       "          v2a1  hacdor  rooms  hacapo  v14a  refrig  v18q  v18q1  r4h1  r4h2  \\\n",
       "4490       0.0       0      4       0     1       1     0    0.0     0     1   \n",
       "6440       0.0       0      5       0     1       1     1    1.0     0     1   \n",
       "3348       0.0       0      4       0     1       1     0    0.0     0     2   \n",
       "1026  300000.0       0      8       0     1       1     1    3.0     0     1   \n",
       "3278  250000.0       0      5       0     1       1     0    0.0     0     2   \n",
       "\n",
       "      ...    age  SQBescolari  SQBage  SQBhogar_total  SQBedjefe  \\\n",
       "4490  ...     56           25    3136              25          1   \n",
       "6440  ...     31           81     961               4         81   \n",
       "3348  ...     25           81     625              25          0   \n",
       "1026  ...     30          196     900              25        121   \n",
       "3278  ...     53          144    2809              16        144   \n",
       "\n",
       "      SQBhogar_nin  SQBovercrowding  SQBdependency  SQBmeaned  agesq  \n",
       "4490             4         6.250000       2.250000    25.0000   3136  \n",
       "6440             0         0.444444       0.000000    81.0000    961  \n",
       "3348             9         2.777778       2.250000    56.2500    625  \n",
       "1026             1         1.000000       0.062500   150.0625    900  \n",
       "3278             1         1.777778       0.111111   225.0000   2809  \n",
       "\n",
       "[5 rows x 140 columns]"
      ]
     },
     "execution_count": 9,
     "metadata": {},
     "output_type": "execute_result"
    }
   ],
   "source": [
    "X_train.head()"
   ]
  },
  {
   "cell_type": "markdown",
   "metadata": {},
   "source": [
    "## Models side by side"
   ]
  },
  {
   "cell_type": "code",
   "execution_count": 10,
   "metadata": {},
   "outputs": [
    {
     "name": "stdout",
     "output_type": "stream",
     "text": [
      "Fitting 5 folds for each of 5 candidates, totalling 25 fits\n"
     ]
    },
    {
     "name": "stderr",
     "output_type": "stream",
     "text": [
      "[Parallel(n_jobs=-1)]: Done  25 out of  25 | elapsed:    7.3s finished\n"
     ]
    },
    {
     "name": "stdout",
     "output_type": "stream",
     "text": [
      "Random Forest score: 0.9013734466971877\n",
      "Fitting 5 folds for each of 5 candidates, totalling 25 fits\n"
     ]
    },
    {
     "name": "stderr",
     "output_type": "stream",
     "text": [
      "[Parallel(n_jobs=-1)]: Done  25 out of  25 | elapsed:   46.1s finished\n"
     ]
    },
    {
     "name": "stdout",
     "output_type": "stream",
     "text": [
      "Gradient Boosting score: 0.7253106605624591\n",
      "Fitting 5 folds for each of 5 candidates, totalling 25 fits\n"
     ]
    },
    {
     "name": "stderr",
     "output_type": "stream",
     "text": [
      "[Parallel(n_jobs=-1)]: Done  25 out of  25 | elapsed:    6.8s finished\n"
     ]
    },
    {
     "name": "stdout",
     "output_type": "stream",
     "text": [
      "Adaboost Forest score: 0.6659254414650098\n",
      "Fitting 5 folds for each of 1 candidates, totalling 5 fits\n"
     ]
    },
    {
     "name": "stderr",
     "output_type": "stream",
     "text": [
      "[Parallel(n_jobs=-1)]: Done   5 out of   5 | elapsed:    0.5s finished\n"
     ]
    },
    {
     "name": "stdout",
     "output_type": "stream",
     "text": [
      "Gaussian Naive Bayes score: 0.5527795945062132\n",
      "Fitting 5 folds for each of 10 candidates, totalling 50 fits\n"
     ]
    },
    {
     "name": "stderr",
     "output_type": "stream",
     "text": [
      "[Parallel(n_jobs=-1)]: Done  42 tasks      | elapsed:   18.2s\n",
      "[Parallel(n_jobs=-1)]: Done  50 out of  50 | elapsed:   22.1s finished\n"
     ]
    },
    {
     "name": "stdout",
     "output_type": "stream",
     "text": [
      "Logistic Regression score: 0.6550686723348594\n",
      "Fitting 5 folds for each of 17 candidates, totalling 85 fits\n"
     ]
    },
    {
     "name": "stderr",
     "output_type": "stream",
     "text": [
      "[Parallel(n_jobs=-1)]: Done  42 tasks      | elapsed:   12.8s\n",
      "[Parallel(n_jobs=-1)]: Done  85 out of  85 | elapsed:   25.4s finished\n"
     ]
    },
    {
     "name": "stdout",
     "output_type": "stream",
     "text": [
      "Multi-layer Perceptron score: 0.6222367560497057\n",
      "Fitting 5 folds for each of 5 candidates, totalling 25 fits\n"
     ]
    },
    {
     "name": "stderr",
     "output_type": "stream",
     "text": [
      "[Parallel(n_jobs=-1)]: Done  25 out of  25 | elapsed:  3.1min finished\n"
     ]
    },
    {
     "name": "stdout",
     "output_type": "stream",
     "text": [
      "Support Vector score: 0.6171353826030085\n",
      "Fitting 5 folds for each of 5 candidates, totalling 25 fits\n"
     ]
    },
    {
     "name": "stderr",
     "output_type": "stream",
     "text": [
      "[Parallel(n_jobs=-1)]: Done  25 out of  25 | elapsed:  1.1min finished\n"
     ]
    },
    {
     "name": "stdout",
     "output_type": "stream",
     "text": [
      "Linear Support Vector score: 0.5038587311968606\n",
      "Fitting 5 folds for each of 4 candidates, totalling 20 fits\n"
     ]
    },
    {
     "name": "stderr",
     "output_type": "stream",
     "text": [
      "[Parallel(n_jobs=-1)]: Done  20 out of  20 | elapsed:    8.6s finished\n"
     ]
    },
    {
     "name": "stdout",
     "output_type": "stream",
     "text": [
      "Closest Neighbors score: 0.6142576847612818\n"
     ]
    }
   ],
   "source": [
    "models = [\n",
    "         \"Random Forest\",\n",
    "         \"Gradient Boosting\",\n",
    "         \"Adaboost Forest\",\n",
    "         \"Gaussian Naive Bayes\",\n",
    "         \"Logistic Regression\",\n",
    "         \"Multi-layer Perceptron\",\n",
    "         \"Support Vector\",\n",
    "         \"Linear Support Vector\",\n",
    "         \"Closest Neighbors\",\n",
    "        ]\n",
    "\n",
    "classifiers = [\n",
    "    RandomForestClassifier(),\n",
    "    GradientBoostingClassifier(),\n",
    "    AdaBoostClassifier(),\n",
    "    GaussianNB(),\n",
    "    LogisticRegression(),\n",
    "    MLPClassifier(),\n",
    "    SVC(),\n",
    "    LinearSVC(),\n",
    "    KNeighborsClassifier()\n",
    "]\n",
    "\n",
    "#Why these parameters?\n",
    "parameters = [\n",
    "              {'n_estimators': list(range(50,60,2))},    # Random Forest\n",
    "              {'n_estimators': list(range(50,60,2))},    # Gradient Boosting \n",
    "              {'n_estimators': list(range(50,60,2))},    # Adaboost Forest\n",
    "              {},                                        # Gaussian Naive Bayes\n",
    "              {'C': np.logspace(0, 3, 10)},              # Logistic Regression\n",
    "              {'hidden_layer_sizes': (40,40,40,40,40,40, # Multi-layer Perceptron\n",
    "                                      40,40,40,40,40,40,\n",
    "                                      40,40,40,40,40)},    \n",
    "              {'C': np.logspace(1, 3, 5)},               # Support Vector\n",
    "              {'C': np.logspace(1, 3, 5)},               # Linear Support Vector\n",
    "              {'n_neighbors': list(range(5,15,3))}       # Closest Neighbors\n",
    "             ]\n",
    "\n",
    "optimal = {}\n",
    "score_classifiers={}\n",
    "\n",
    "for model, clf, params in zip(models, classifiers, parameters):\n",
    "    gscv = GridSearchCV(clf, param_grid=params, cv=5, verbose=1, n_jobs=-1)\n",
    "    gscv = gscv.fit(X_train, y_train)\n",
    "    score = gscv.best_score_\n",
    "    score_classifiers[model] = score\n",
    "    optimal[model] = {'clf':gscv.best_estimator_, 'score':score}\n",
    "    print(\"{} score: {}\".format(model, score))"
   ]
  },
  {
   "cell_type": "code",
   "execution_count": 11,
   "metadata": {},
   "outputs": [
    {
     "data": {
      "text/plain": [
       "{'Random Forest': 0.9013734466971877,\n",
       " 'Gradient Boosting': 0.7253106605624591,\n",
       " 'Adaboost Forest': 0.6659254414650098,\n",
       " 'Gaussian Naive Bayes': 0.5527795945062132,\n",
       " 'Logistic Regression': 0.6550686723348594,\n",
       " 'Multi-layer Perceptron': 0.6222367560497057,\n",
       " 'Support Vector': 0.6171353826030085,\n",
       " 'Linear Support Vector': 0.5038587311968606,\n",
       " 'Closest Neighbors': 0.6142576847612818}"
      ]
     },
     "execution_count": 11,
     "metadata": {},
     "output_type": "execute_result"
    }
   ],
   "source": [
    "score_classifiers"
   ]
  },
  {
   "cell_type": "code",
   "execution_count": 12,
   "metadata": {},
   "outputs": [
    {
     "data": {
      "text/plain": [
       "{'Random Forest': {'clf': RandomForestClassifier(bootstrap=True, class_weight=None, criterion='gini',\n",
       "              max_depth=None, max_features='auto', max_leaf_nodes=None,\n",
       "              min_impurity_decrease=0.0, min_impurity_split=None,\n",
       "              min_samples_leaf=1, min_samples_split=2,\n",
       "              min_weight_fraction_leaf=0.0, n_estimators=58, n_jobs=1,\n",
       "              oob_score=False, random_state=None, verbose=0,\n",
       "              warm_start=False), 'score': 0.9013734466971877},\n",
       " 'Gradient Boosting': {'clf': GradientBoostingClassifier(criterion='friedman_mse', init=None,\n",
       "                learning_rate=0.1, loss='deviance', max_depth=3,\n",
       "                max_features=None, max_leaf_nodes=None,\n",
       "                min_impurity_decrease=0.0, min_impurity_split=None,\n",
       "                min_samples_leaf=1, min_samples_split=2,\n",
       "                min_weight_fraction_leaf=0.0, n_estimators=58,\n",
       "                presort='auto', random_state=None, subsample=1.0, verbose=0,\n",
       "                warm_start=False), 'score': 0.7253106605624591},\n",
       " 'Adaboost Forest': {'clf': AdaBoostClassifier(algorithm='SAMME.R', base_estimator=None,\n",
       "            learning_rate=1.0, n_estimators=58, random_state=None),\n",
       "  'score': 0.6659254414650098},\n",
       " 'Gaussian Naive Bayes': {'clf': GaussianNB(priors=None),\n",
       "  'score': 0.5527795945062132},\n",
       " 'Logistic Regression': {'clf': LogisticRegression(C=4.641588833612778, class_weight=None, dual=False,\n",
       "            fit_intercept=True, intercept_scaling=1, max_iter=100,\n",
       "            multi_class='ovr', n_jobs=1, penalty='l2', random_state=None,\n",
       "            solver='liblinear', tol=0.0001, verbose=0, warm_start=False),\n",
       "  'score': 0.6550686723348594},\n",
       " 'Multi-layer Perceptron': {'clf': MLPClassifier(activation='relu', alpha=0.0001, batch_size='auto', beta_1=0.9,\n",
       "         beta_2=0.999, early_stopping=False, epsilon=1e-08,\n",
       "         hidden_layer_sizes=40, learning_rate='constant',\n",
       "         learning_rate_init=0.001, max_iter=200, momentum=0.9,\n",
       "         nesterovs_momentum=True, power_t=0.5, random_state=None,\n",
       "         shuffle=True, solver='adam', tol=0.0001, validation_fraction=0.1,\n",
       "         verbose=False, warm_start=False), 'score': 0.6222367560497057},\n",
       " 'Support Vector': {'clf': SVC(C=10.0, cache_size=200, class_weight=None, coef0=0.0,\n",
       "    decision_function_shape='ovr', degree=3, gamma='auto', kernel='rbf',\n",
       "    max_iter=-1, probability=False, random_state=None, shrinking=True,\n",
       "    tol=0.001, verbose=False), 'score': 0.6171353826030085},\n",
       " 'Linear Support Vector': {'clf': LinearSVC(C=316.22776601683796, class_weight=None, dual=True,\n",
       "       fit_intercept=True, intercept_scaling=1, loss='squared_hinge',\n",
       "       max_iter=1000, multi_class='ovr', penalty='l2', random_state=None,\n",
       "       tol=0.0001, verbose=0), 'score': 0.5038587311968606},\n",
       " 'Closest Neighbors': {'clf': KNeighborsClassifier(algorithm='auto', leaf_size=30, metric='minkowski',\n",
       "             metric_params=None, n_jobs=1, n_neighbors=14, p=2,\n",
       "             weights='uniform'), 'score': 0.6142576847612818}}"
      ]
     },
     "execution_count": 12,
     "metadata": {},
     "output_type": "execute_result"
    }
   ],
   "source": [
    "optimal"
   ]
  },
  {
   "cell_type": "markdown",
   "metadata": {},
   "source": [
    "##### Random Forest"
   ]
  },
  {
   "cell_type": "code",
   "execution_count": 13,
   "metadata": {},
   "outputs": [
    {
     "name": "stdout",
     "output_type": "stream",
     "text": [
      "Random Forest Classifier\n",
      "0.9168410041841004\n",
      "             precision    recall  f1-score   support\n",
      "\n",
      "          1       0.97      0.75      0.84       158\n",
      "          2       0.92      0.80      0.86       323\n",
      "          3       0.96      0.75      0.84       220\n",
      "          4       0.91      1.00      0.95      1211\n",
      "\n",
      "avg / total       0.92      0.92      0.91      1912\n",
      "\n",
      "[[ 118   14    0   26]\n",
      " [   4  259    6   54]\n",
      " [   0    9  165   46]\n",
      " [   0    0    0 1211]]\n"
     ]
    }
   ],
   "source": [
    "clf_RFC = RandomForestClassifier()\n",
    "params = {'n_estimators': [50]}\n",
    "gs_RFC = GridSearchCV(clf_RFC, params, cv=5)\n",
    "gs_RFC.fit(X_train, y_train)\n",
    "predicted = gs_RFC.predict(X_test)\n",
    "\n",
    "predicted_RFC = predicted\n",
    "\n",
    "print('Random Forest Classifier')\n",
    "print(metrics.accuracy_score(expected, predicted))\n",
    "print(metrics.classification_report(expected, predicted))\n",
    "print(metrics.confusion_matrix(expected, predicted))"
   ]
  },
  {
   "cell_type": "markdown",
   "metadata": {},
   "source": [
    "##### Gradient Boosting Classifier"
   ]
  },
  {
   "cell_type": "code",
   "execution_count": 14,
   "metadata": {},
   "outputs": [
    {
     "name": "stdout",
     "output_type": "stream",
     "text": [
      "Gradient Boosting Classifier\n",
      "0.7160041841004184\n",
      "             precision    recall  f1-score   support\n",
      "\n",
      "          1       0.78      0.27      0.40       158\n",
      "          2       0.51      0.43      0.47       323\n",
      "          3       0.89      0.15      0.26       220\n",
      "          4       0.74      0.95      0.84      1211\n",
      "\n",
      "avg / total       0.73      0.72      0.67      1912\n",
      "\n",
      "[[  43   47    1   67]\n",
      " [   6  139    2  176]\n",
      " [   3   31   33  153]\n",
      " [   3   53    1 1154]]\n"
     ]
    }
   ],
   "source": [
    "clf_GBC = GradientBoostingClassifier()\n",
    "params = {'n_estimators': [58]}\n",
    "gs_GBC = GridSearchCV(clf_GBC, params, cv=5)\n",
    "gs_GBC.fit(X_train, y_train)\n",
    "predicted = gs_GBC.predict(X_test)\n",
    "\n",
    "print('Gradient Boosting Classifier')\n",
    "print(metrics.accuracy_score(expected, predicted))\n",
    "print(metrics.classification_report(expected, predicted))\n",
    "print(metrics.confusion_matrix(expected, predicted))"
   ]
  },
  {
   "cell_type": "markdown",
   "metadata": {},
   "source": [
    "##### Ada Boost Classifier"
   ]
  },
  {
   "cell_type": "code",
   "execution_count": 15,
   "metadata": {},
   "outputs": [
    {
     "name": "stdout",
     "output_type": "stream",
     "text": [
      "Ada Boost Classifier\n",
      "0.6480125523012552\n",
      "             precision    recall  f1-score   support\n",
      "\n",
      "          1       0.43      0.30      0.35       158\n",
      "          2       0.35      0.29      0.32       323\n",
      "          3       0.22      0.08      0.11       220\n",
      "          4       0.74      0.89      0.81      1211\n",
      "\n",
      "avg / total       0.59      0.65      0.61      1912\n",
      "\n",
      "[[  47   49    3   59]\n",
      " [  44   94   14  171]\n",
      " [   8   51   17  144]\n",
      " [  10   77   43 1081]]\n"
     ]
    }
   ],
   "source": [
    "clf_ABC = AdaBoostClassifier()\n",
    "params = {'n_estimators': [58]}\n",
    "gs_ABC = GridSearchCV(clf_ABC, params, cv=5)\n",
    "gs_ABC.fit(X_train, y_train)\n",
    "predicted = gs_ABC.predict(X_test)\n",
    "\n",
    "print('Ada Boost Classifier')\n",
    "print(metrics.accuracy_score(expected, predicted))\n",
    "print(metrics.classification_report(expected, predicted))\n",
    "print(metrics.confusion_matrix(expected, predicted))"
   ]
  },
  {
   "cell_type": "markdown",
   "metadata": {},
   "source": [
    "##### Gaussian NB"
   ]
  },
  {
   "cell_type": "code",
   "execution_count": 16,
   "metadata": {},
   "outputs": [
    {
     "name": "stdout",
     "output_type": "stream",
     "text": [
      "Gaussian Naive Bayes\n",
      "0.5449790794979079\n",
      "             precision    recall  f1-score   support\n",
      "\n",
      "          1       0.26      0.15      0.19       158\n",
      "          2       0.29      0.56      0.38       323\n",
      "          3       0.17      0.16      0.17       220\n",
      "          4       0.81      0.66      0.73      1211\n",
      "\n",
      "avg / total       0.61      0.54      0.56      1912\n",
      "\n",
      "[[ 23  88  11  36]\n",
      " [ 21 182  37  83]\n",
      " [  6 112  36  66]\n",
      " [ 37 249 124 801]]\n"
     ]
    }
   ],
   "source": [
    "clf_GNB = GaussianNB()\n",
    "params = {}\n",
    "gs_GNB = GridSearchCV(clf_GNB, params, cv=5)\n",
    "gs_GNB.fit(X_train, y_train)\n",
    "predicted = gs_GNB.predict(X_test)\n",
    "\n",
    "print('Gaussian Naive Bayes')\n",
    "print(metrics.accuracy_score(expected, predicted))\n",
    "print(metrics.classification_report(expected, predicted))\n",
    "print(metrics.confusion_matrix(expected, predicted))"
   ]
  },
  {
   "cell_type": "markdown",
   "metadata": {},
   "source": [
    "##### Logistic Regresion"
   ]
  },
  {
   "cell_type": "code",
   "execution_count": 17,
   "metadata": {},
   "outputs": [
    {
     "name": "stdout",
     "output_type": "stream",
     "text": [
      "Logistic Regresion Clasifier\n",
      "0.6657949790794979\n",
      "             precision    recall  f1-score   support\n",
      "\n",
      "          1       0.62      0.05      0.09       158\n",
      "          2       0.44      0.27      0.33       323\n",
      "          3       0.00      0.00      0.00       220\n",
      "          4       0.69      0.97      0.81      1211\n",
      "\n",
      "avg / total       0.56      0.67      0.58      1912\n",
      "\n",
      "[[   8   50    2   98]\n",
      " [   5   87    0  231]\n",
      " [   0   30    0  190]\n",
      " [   0   32    1 1178]]\n"
     ]
    }
   ],
   "source": [
    "clf_LR = LogisticRegression()\n",
    "params = {'C': [1.0]}\n",
    "gs_LR = GridSearchCV(clf_LR, params, cv=5)\n",
    "gs_LR.fit(X_train, y_train)\n",
    "predicted = gs_LR.predict(X_test)\n",
    "\n",
    "print('Logistic Regresion Clasifier')\n",
    "print(metrics.accuracy_score(expected, predicted))\n",
    "print(metrics.classification_report(expected, predicted))\n",
    "print(metrics.confusion_matrix(expected, predicted))"
   ]
  },
  {
   "cell_type": "markdown",
   "metadata": {},
   "source": [
    "##### Multi-layer Perceptron"
   ]
  },
  {
   "cell_type": "code",
   "execution_count": 18,
   "metadata": {},
   "outputs": [
    {
     "name": "stdout",
     "output_type": "stream",
     "text": [
      "Multi-layer Perceptron\n",
      "0.5810669456066946\n",
      "             precision    recall  f1-score   support\n",
      "\n",
      "          1       0.19      0.27      0.22       158\n",
      "          2       0.26      0.11      0.15       323\n",
      "          3       0.17      0.18      0.18       220\n",
      "          4       0.75      0.82      0.79      1211\n",
      "\n",
      "avg / total       0.56      0.58      0.56      1912\n",
      "\n",
      "[[ 43  16  42  57]\n",
      " [ 80  35  64 144]\n",
      " [ 24  33  40 123]\n",
      " [ 81  53  84 993]]\n"
     ]
    }
   ],
   "source": [
    "clf_MLP = MLPClassifier()\n",
    "params = {'hidden_layer_sizes': (40,40,40,40,40,40,40,40,40,40,40,40,40,40,40,40,40)}\n",
    "gs_MLP = GridSearchCV(clf_MLP, params, cv=5)\n",
    "gs_MLP.fit(X_train, y_train)\n",
    "predicted = gs_MLP.predict(X_test)\n",
    "\n",
    "print('Multi-layer Perceptron')\n",
    "print(metrics.accuracy_score(expected, predicted))\n",
    "print(metrics.classification_report(expected, predicted))\n",
    "print(metrics.confusion_matrix(expected, predicted))"
   ]
  },
  {
   "cell_type": "markdown",
   "metadata": {},
   "source": [
    "##### Support Vector Classification"
   ]
  },
  {
   "cell_type": "code",
   "execution_count": 19,
   "metadata": {},
   "outputs": [
    {
     "name": "stdout",
     "output_type": "stream",
     "text": [
      "Support vector clustering\n",
      "0.6365062761506276\n",
      "             precision    recall  f1-score   support\n",
      "\n",
      "          1       0.40      0.03      0.05       158\n",
      "          2       0.48      0.04      0.07       323\n",
      "          3       0.33      0.01      0.03       220\n",
      "          4       0.64      0.99      0.78      1211\n",
      "\n",
      "avg / total       0.56      0.64      0.51      1912\n",
      "\n",
      "[[   4    2    1  151]\n",
      " [   2   12    0  309]\n",
      " [   4    3    3  210]\n",
      " [   0    8    5 1198]]\n"
     ]
    }
   ],
   "source": [
    "clf_SVC = SVC()\n",
    "params = {'C': [1.0]}\n",
    "gs_SVC = GridSearchCV(clf_SVC, params, cv=5)\n",
    "gs_SVC.fit(X_train, y_train)\n",
    "predicted = gs_SVC.predict(X_test)\n",
    "\n",
    "print('Support vector clustering')\n",
    "print(metrics.accuracy_score(expected, predicted))\n",
    "print(metrics.classification_report(expected, predicted))\n",
    "print(metrics.confusion_matrix(expected, predicted))"
   ]
  },
  {
   "cell_type": "markdown",
   "metadata": {},
   "source": [
    "##### Linear Support Vector Classification"
   ]
  },
  {
   "cell_type": "code",
   "execution_count": 20,
   "metadata": {},
   "outputs": [
    {
     "name": "stdout",
     "output_type": "stream",
     "text": [
      "Closest Neighbor Classifier\n",
      "0.5418410041841004\n",
      "             precision    recall  f1-score   support\n",
      "\n",
      "          1       0.14      0.27      0.18       158\n",
      "          2       0.35      0.14      0.20       323\n",
      "          3       0.22      0.10      0.13       220\n",
      "          4       0.67      0.77      0.72      1211\n",
      "\n",
      "avg / total       0.52      0.54      0.52      1912\n",
      "\n",
      "[[ 43  24   9  82]\n",
      " [ 47  44  17 215]\n",
      " [ 25  21  21 153]\n",
      " [198  38  47 928]]\n"
     ]
    }
   ],
   "source": [
    "clf_LSVC = LinearSVC()\n",
    "params = {'C': [1.0]}\n",
    "gs_LSVC = GridSearchCV(clf_LSVC, params, cv=5)\n",
    "gs_LSVC.fit(X_train, y_train)\n",
    "predicted = gs_LSVC.predict(X_test)\n",
    "\n",
    "print('Closest Neighbor Classifier')\n",
    "print(metrics.accuracy_score(expected, predicted))\n",
    "print(metrics.classification_report(expected, predicted))\n",
    "print(metrics.confusion_matrix(expected, predicted))"
   ]
  },
  {
   "cell_type": "markdown",
   "metadata": {},
   "source": [
    "##### Closest Neighbors"
   ]
  },
  {
   "cell_type": "code",
   "execution_count": 21,
   "metadata": {},
   "outputs": [
    {
     "name": "stdout",
     "output_type": "stream",
     "text": [
      "Closest Neighbor Classifier\n",
      "0.6093096234309623\n",
      "             precision    recall  f1-score   support\n",
      "\n",
      "          1       0.31      0.11      0.17       158\n",
      "          2       0.30      0.20      0.24       323\n",
      "          3       0.17      0.05      0.08       220\n",
      "          4       0.68      0.88      0.77      1211\n",
      "\n",
      "avg / total       0.53      0.61      0.55      1912\n",
      "\n",
      "[[  18   28    9  103]\n",
      " [  15   64   17  227]\n",
      " [  13   29   12  166]\n",
      " [  13   94   33 1071]]\n"
     ]
    }
   ],
   "source": [
    "clf_KN = KNeighborsClassifier()\n",
    "params = {'n_neighbors': [14]}\n",
    "gs_KN = GridSearchCV(clf_KN, params, cv=5)\n",
    "gs_KN.fit(X_train, y_train)\n",
    "predicted = gs_KN.predict(X_test)\n",
    "\n",
    "print('Closest Neighbor Classifier')\n",
    "print(metrics.accuracy_score(expected, predicted))\n",
    "print(metrics.classification_report(expected, predicted))\n",
    "print(metrics.confusion_matrix(expected, predicted))"
   ]
  },
  {
   "cell_type": "markdown",
   "metadata": {},
   "source": [
    "## Analyzing RFC in depth\n",
    "The best model is the Random Forest Classifier"
   ]
  },
  {
   "cell_type": "markdown",
   "metadata": {},
   "source": [
    "### HeatMap"
   ]
  },
  {
   "cell_type": "code",
   "execution_count": 22,
   "metadata": {},
   "outputs": [
    {
     "data": {
      "text/plain": [
       "Text(0.5,15,'Predicted label')"
      ]
     },
     "execution_count": 22,
     "metadata": {},
     "output_type": "execute_result"
    },
    {
     "data": {
      "image/png": "[encoded data removed]",
      "text/plain": [
       "<Figure size 432x288 with 2 Axes>"
      ]
     },
     "metadata": {},
     "output_type": "display_data"
    }
   ],
   "source": [
    "conf = pd.DataFrame(metrics.confusion_matrix(y_test, predicted_RFC))\n",
    "heatmap = sns.heatmap(conf, annot=True, fmt='d', cmap=\"Blues\")\n",
    "heatmap.yaxis.set_ticklabels(heatmap.yaxis.get_ticklabels(), rotation=0, ha='right', fontsize=14)\n",
    "heatmap.xaxis.set_ticklabels(heatmap.xaxis.get_ticklabels(), rotation=45, ha='right', fontsize=14)\n",
    "plt.ylabel('True label')\n",
    "plt.xlabel('Predicted label')"
   ]
  },
  {
   "cell_type": "markdown",
   "metadata": {},
   "source": [
    "### ROC Curve"
   ]
  },
  {
   "cell_type": "code",
   "execution_count": 23,
   "metadata": {},
   "outputs": [
    {
     "data": {
      "image/png": "[encoded data removed]",
      "text/plain": [
       "<Figure size 432x288 with 1 Axes>"
      ]
     },
     "metadata": {},
     "output_type": "display_data"
    },
    {
     "data": {
      "image/png": "[encoded data removed]",
      "text/plain": [
       "<Figure size 432x288 with 1 Axes>"
      ]
     },
     "metadata": {},
     "output_type": "display_data"
    },
    {
     "data": {
      "image/png": "[encoded data removed]",
      "text/plain": [
       "<Figure size 432x288 with 1 Axes>"
      ]
     },
     "metadata": {},
     "output_type": "display_data"
    },
    {
     "data": {
      "image/png": "[encoded data removed]",
      "text/plain": [
       "<Figure size 432x288 with 1 Axes>"
      ]
     },
     "metadata": {},
     "output_type": "display_data"
    }
   ],
   "source": [
    "y = label_binarize(y, classes=[1,2,3,4])\n",
    "n_classes = 4\n",
    "\n",
    "# shuffle and split training and test sets\n",
    "X_train, X_test, y_train, y_test = train_test_split(X, y, test_size=0.2, random_state=0)\n",
    "\n",
    "# classifier\n",
    "clf = OneVsRestClassifier(RandomForestClassifier(n_estimators = 50,random_state=0))\n",
    "y_score = clf.fit(X_train, y_train).predict_proba(X_test)\n",
    "\n",
    "# Compute ROC curve and ROC area for each class\n",
    "fpr = dict()\n",
    "tpr = dict()\n",
    "roc_auc = dict()\n",
    "for i in range(n_classes):\n",
    "    fpr[i], tpr[i], _ = metrics.roc_curve(y_test[:, i], y_score[:, i])\n",
    "    roc_auc[i] = metrics.auc(fpr[i], tpr[i])\n",
    "\n",
    "# Plot of a ROC curve for a specific class\n",
    "for i in range(n_classes):\n",
    "    plt.figure()\n",
    "    plt.plot(fpr[i], tpr[i], label='ROC curve (area = %0.2f)' % roc_auc[i])\n",
    "    plt.plot([0, 1], [0, 1], 'k--')\n",
    "    plt.xlim([0.0, 1.0])\n",
    "    plt.ylim([0.0, 1.05])\n",
    "    plt.xlabel('False Positive Rate')\n",
    "    plt.ylabel('True Positive Rate')\n",
    "    plt.title('Receiver operating %d' %int(i+1))\n",
    "    plt.legend(loc=\"lower right\")\n",
    "    plt.show()"
   ]
  },
  {
   "cell_type": "markdown",
   "metadata": {},
   "source": [
    "### Features"
   ]
  },
  {
   "cell_type": "code",
   "execution_count": 24,
   "metadata": {},
   "outputs": [
    {
     "name": "stdout",
     "output_type": "stream",
     "text": [
      "Feature ranking:\n",
      "0. feature meaneduc (0.053092)\n",
      "1. feature SQBmeaned (0.042131)\n",
      "2. feature overcrowding (0.025273)\n",
      "3. feature SQBdependency (0.024728)\n",
      "4. feature SQBhogar_nin (0.024702)\n",
      "5. feature SQBovercrowding (0.024341)\n",
      "6. feature escolari (0.022244)\n",
      "7. feature qmobilephone (0.022043)\n",
      "8. feature hogar_nin (0.020931)\n",
      "9. feature r4t1 (0.020601)\n",
      "10. feature dependency (0.020399)\n",
      "11. feature rooms (0.019221)\n",
      "12. feature SQBage (0.019033)\n",
      "13. feature edjefe (0.018752)\n",
      "14. feature SQBedjefe (0.018700)\n",
      "15. feature age (0.018212)\n",
      "16. feature eviv3 (0.017797)\n",
      "17. feature agesq (0.017712)\n",
      "18. feature r4m3 (0.015969)\n",
      "19. feature v2a1 (0.015770)\n",
      "20. feature r4h2 (0.015698)\n",
      "21. feature r4h3 (0.015277)\n",
      "22. feature tamviv (0.014314)\n",
      "23. feature edjefa (0.013976)\n",
      "24. feature SQBescolari (0.013853)\n",
      "25. feature hogar_adul (0.013033)\n",
      "26. feature v18q1 (0.012851)\n",
      "27. feature r4t2 (0.012509)\n",
      "28. feature cielorazo (0.012482)\n",
      "29. feature bedrooms (0.012257)\n",
      "30. feature paredblolad (0.012125)\n",
      "31. feature hogar_total (0.011870)\n",
      "32. feature r4m2 (0.011705)\n",
      "33. feature tamhog (0.011367)\n",
      "34. feature pisomoscer (0.010776)\n",
      "35. feature etecho3 (0.010483)\n",
      "36. feature r4h1 (0.010121)\n",
      "37. feature r4m1 (0.009460)\n",
      "38. feature lugar1 (0.008948)\n",
      "39. feature v18q (0.008634)\n",
      "40. feature hhsize (0.008629)\n",
      "41. feature energcocinar2 (0.008543)\n",
      "42. feature r4t3 (0.008081)\n",
      "43. feature SQBhogar_total (0.008001)\n",
      "44. feature epared2 (0.007949)\n",
      "45. feature epared3 (0.007714)\n",
      "46. feature area2 (0.007530)\n",
      "47. feature paredpreb (0.007441)\n",
      "48. feature television (0.007362)\n",
      "49. feature area1 (0.007337)\n",
      "50. feature eviv1 (0.007053)\n",
      "51. feature etecho2 (0.006974)\n",
      "52. feature tipovivi1 (0.006774)\n",
      "53. feature paredmad (0.006578)\n",
      "54. feature sanitario2 (0.006264)\n",
      "55. feature sanitario3 (0.006188)\n",
      "56. feature energcocinar3 (0.006128)\n",
      "57. feature eviv2 (0.006007)\n",
      "58. feature etecho1 (0.005813)\n",
      "59. feature lugar4 (0.005722)\n",
      "60. feature elimbasu3 (0.005628)\n",
      "61. feature lugar3 (0.005559)\n",
      "62. feature pisocemento (0.005439)\n",
      "63. feature hogar_mayor (0.005208)\n",
      "64. feature epared1 (0.005171)\n",
      "65. feature energcocinar4 (0.004748)\n",
      "66. feature tipovivi3 (0.004725)\n",
      "67. feature lugar5 (0.004711)\n",
      "68. feature tipovivi5 (0.004571)\n",
      "69. feature refrig (0.004389)\n",
      "70. feature elimbasu1 (0.004197)\n",
      "71. feature public (0.004161)\n",
      "72. feature lugar2 (0.004023)\n",
      "73. feature paredzocalo (0.003922)\n",
      "74. feature coopele (0.003905)\n",
      "75. feature lugar6 (0.003743)\n",
      "76. feature pisomadera (0.003694)\n",
      "77. feature estadocivil3 (0.003499)\n",
      "78. feature male (0.003224)\n",
      "79. feature estadocivil7 (0.003138)\n",
      "80. feature parentesco3 (0.003060)\n",
      "81. feature estadocivil2 (0.002955)\n",
      "82. feature tipovivi2 (0.002881)\n",
      "83. feature instlevel2 (0.002720)\n",
      "84. feature female (0.002696)\n",
      "85. feature parentesco1 (0.002501)\n",
      "86. feature computer (0.002462)\n",
      "87. feature dis (0.002377)\n",
      "88. feature estadocivil5 (0.002362)\n",
      "89. feature abastaguadentro (0.002329)\n",
      "90. feature hacdor (0.002317)\n",
      "91. feature mobilephone (0.002254)\n",
      "92. feature instlevel1 (0.002079)\n",
      "93. feature instlevel4 (0.002054)\n",
      "94. feature rez_esc (0.002053)\n",
      "95. feature parentesco2 (0.001985)\n",
      "96. feature instlevel3 (0.001825)\n",
      "97. feature elimbasu2 (0.001819)\n",
      "98. feature sanitario5 (0.001819)\n",
      "99. feature instlevel5 (0.001664)\n",
      "100. feature instlevel6 (0.001648)\n",
      "101. feature techozinc (0.001307)\n",
      "102. feature hacapo (0.001305)\n",
      "103. feature estadocivil6 (0.001244)\n",
      "104. feature pareddes (0.001215)\n",
      "105. feature tipovivi4 (0.001124)\n",
      "106. feature abastaguafuera (0.001117)\n",
      "107. feature estadocivil1 (0.001054)\n",
      "108. feature parentesco6 (0.000990)\n",
      "109. feature instlevel8 (0.000961)\n",
      "110. feature pisonotiene (0.000943)\n",
      "111. feature paredzinc (0.000865)\n",
      "112. feature parentesco4 (0.000852)\n",
      "113. feature estadocivil4 (0.000714)\n",
      "114. feature techoentrepiso (0.000603)\n",
      "115. feature parentesco9 (0.000554)\n",
      "116. feature instlevel7 (0.000434)\n",
      "117. feature v14a (0.000382)\n",
      "118. feature noelec (0.000358)\n",
      "119. feature parentesco11 (0.000351)\n",
      "120. feature sanitario6 (0.000335)\n",
      "121. feature energcocinar1 (0.000317)\n",
      "122. feature parentesco5 (0.000254)\n",
      "123. feature abastaguano (0.000250)\n",
      "124. feature parentesco10 (0.000228)\n",
      "125. feature parentesco7 (0.000224)\n",
      "126. feature parentesco8 (0.000193)\n",
      "127. feature paredfibras (0.000154)\n",
      "128. feature techocane (0.000152)\n",
      "129. feature instlevel9 (0.000148)\n",
      "130. feature elimbasu4 (0.000147)\n",
      "131. feature parentesco12 (0.000100)\n",
      "132. feature planpri (0.000049)\n",
      "133. feature paredother (0.000042)\n",
      "134. feature sanitario1 (0.000040)\n",
      "135. feature pisoother (0.000000)\n",
      "136. feature techootro (0.000000)\n",
      "137. feature elimbasu5 (0.000000)\n",
      "138. feature elimbasu6 (0.000000)\n",
      "139. feature pisonatur (0.000000)\n"
     ]
    }
   ],
   "source": [
    "forest = RandomForestClassifier()\n",
    "forest.fit(X_train, y_train)\n",
    "\n",
    "importances = forest.feature_importances_\n",
    "\n",
    "std = np.std([tree.feature_importances_ for tree in forest.estimators_],axis=0)\n",
    "indices = np.argsort(importances)[::-1]\n",
    "\n",
    "X = pd.DataFrame(X)\n",
    "\n",
    "# Print the feature ranking\n",
    "print(\"Feature ranking:\")\n",
    "\n",
    "for f in range(X.shape[1]):\n",
    "    print(\"%d. feature %s (%f)\" % (f, X.columns[indices[f]], importances[indices[f]]))"
   ]
  },
  {
   "cell_type": "code",
   "execution_count": 25,
   "metadata": {},
   "outputs": [
    {
     "data": {
      "image/png": "[encoded data removed]",
      "text/plain": [
       "<Figure size 432x288 with 1 Axes>"
      ]
     },
     "metadata": {},
     "output_type": "display_data"
    }
   ],
   "source": [
    "# Plot the feature importances of the forest\n",
    "plt.figure()\n",
    "plt.title(\"Feature importances\")\n",
    "plt.bar(range(X.shape[1]), importances, color=\"r\", yerr=std, align=\"center\")\n",
    "plt.xticks(range(X.shape[1]), X.columns, rotation = 45)\n",
    "plt.xlim([-1, X.shape[1]])\n",
    "plt.show()"
   ]
  },
  {
   "cell_type": "markdown",
   "metadata": {},
   "source": [
    "#### Top 20 Features"
   ]
  },
  {
   "cell_type": "code",
   "execution_count": 26,
   "metadata": {},
   "outputs": [
    {
     "data": {
      "text/html": [
       "<div>\n",
       "<style scoped>\n",
       "    .dataframe tbody tr th:only-of-type {\n",
       "        vertical-align: middle;\n",
       "    }\n",
       "\n",
       "    .dataframe tbody tr th {\n",
       "        vertical-align: top;\n",
       "    }\n",
       "\n",
       "    .dataframe thead th {\n",
       "        text-align: right;\n",
       "    }\n",
       "</style>\n",
       "<table border=\"1\" class=\"dataframe\">\n",
       "  <thead>\n",
       "    <tr style=\"text-align: right;\">\n",
       "      <th></th>\n",
       "      <th>Feat</th>\n",
       "    </tr>\n",
       "  </thead>\n",
       "  <tbody>\n",
       "    <tr>\n",
       "      <th>0.053092</th>\n",
       "      <td>meaneduc</td>\n",
       "    </tr>\n",
       "    <tr>\n",
       "      <th>0.042131</th>\n",
       "      <td>SQBmeaned</td>\n",
       "    </tr>\n",
       "    <tr>\n",
       "      <th>0.025273</th>\n",
       "      <td>overcrowding</td>\n",
       "    </tr>\n",
       "    <tr>\n",
       "      <th>0.024728</th>\n",
       "      <td>SQBdependency</td>\n",
       "    </tr>\n",
       "    <tr>\n",
       "      <th>0.024702</th>\n",
       "      <td>SQBhogar_nin</td>\n",
       "    </tr>\n",
       "    <tr>\n",
       "      <th>0.024341</th>\n",
       "      <td>SQBovercrowding</td>\n",
       "    </tr>\n",
       "    <tr>\n",
       "      <th>0.022244</th>\n",
       "      <td>escolari</td>\n",
       "    </tr>\n",
       "    <tr>\n",
       "      <th>0.022043</th>\n",
       "      <td>qmobilephone</td>\n",
       "    </tr>\n",
       "    <tr>\n",
       "      <th>0.020931</th>\n",
       "      <td>hogar_nin</td>\n",
       "    </tr>\n",
       "    <tr>\n",
       "      <th>0.020601</th>\n",
       "      <td>r4t1</td>\n",
       "    </tr>\n",
       "    <tr>\n",
       "      <th>0.020399</th>\n",
       "      <td>dependency</td>\n",
       "    </tr>\n",
       "    <tr>\n",
       "      <th>0.019221</th>\n",
       "      <td>rooms</td>\n",
       "    </tr>\n",
       "    <tr>\n",
       "      <th>0.019033</th>\n",
       "      <td>SQBage</td>\n",
       "    </tr>\n",
       "    <tr>\n",
       "      <th>0.018752</th>\n",
       "      <td>edjefe</td>\n",
       "    </tr>\n",
       "    <tr>\n",
       "      <th>0.018700</th>\n",
       "      <td>SQBedjefe</td>\n",
       "    </tr>\n",
       "    <tr>\n",
       "      <th>0.018212</th>\n",
       "      <td>age</td>\n",
       "    </tr>\n",
       "    <tr>\n",
       "      <th>0.017797</th>\n",
       "      <td>eviv3</td>\n",
       "    </tr>\n",
       "    <tr>\n",
       "      <th>0.017712</th>\n",
       "      <td>agesq</td>\n",
       "    </tr>\n",
       "    <tr>\n",
       "      <th>0.015969</th>\n",
       "      <td>r4m3</td>\n",
       "    </tr>\n",
       "    <tr>\n",
       "      <th>0.015770</th>\n",
       "      <td>v2a1</td>\n",
       "    </tr>\n",
       "  </tbody>\n",
       "</table>\n",
       "</div>"
      ],
      "text/plain": [
       "                     Feat\n",
       "0.053092         meaneduc\n",
       "0.042131        SQBmeaned\n",
       "0.025273     overcrowding\n",
       "0.024728    SQBdependency\n",
       "0.024702     SQBhogar_nin\n",
       "0.024341  SQBovercrowding\n",
       "0.022244         escolari\n",
       "0.022043     qmobilephone\n",
       "0.020931        hogar_nin\n",
       "0.020601             r4t1\n",
       "0.020399       dependency\n",
       "0.019221            rooms\n",
       "0.019033           SQBage\n",
       "0.018752           edjefe\n",
       "0.018700        SQBedjefe\n",
       "0.018212              age\n",
       "0.017797            eviv3\n",
       "0.017712            agesq\n",
       "0.015969             r4m3\n",
       "0.015770             v2a1"
      ]
     },
     "execution_count": 26,
     "metadata": {},
     "output_type": "execute_result"
    }
   ],
   "source": [
    "features = pd.DataFrame(X.columns,importances)\n",
    "features.columns = ['Feat']\n",
    "features.sort_index(ascending=False).head(20)"
   ]
  },
  {
   "cell_type": "markdown",
   "metadata": {},
   "source": [
    "##### Only with SQB Values"
   ]
  },
  {
   "cell_type": "code",
   "execution_count": 27,
   "metadata": {},
   "outputs": [],
   "source": [
    "X = data[[\n",
    "    'SQBescolari', 'SQBage', 'SQBhogar_total', 'SQBedjefe', 'SQBhogar_nin',\n",
    "    'SQBovercrowding', 'SQBdependency', 'SQBmeaned'\n",
    "    ]]\n",
    "y = data['Target']\n",
    "X_train, X_test, y_train, y_test = train_test_split(X, y, test_size=0.2)"
   ]
  },
  {
   "cell_type": "code",
   "execution_count": 28,
   "metadata": {},
   "outputs": [
    {
     "name": "stdout",
     "output_type": "stream",
     "text": [
      "             precision    recall  f1-score   support\n",
      "\n",
      "          1       0.62      0.54      0.57       147\n",
      "          2       0.61      0.56      0.58       321\n",
      "          3       0.69      0.46      0.55       226\n",
      "          4       0.84      0.92      0.88      1218\n",
      "\n",
      "avg / total       0.76      0.77      0.76      1912\n",
      "\n"
     ]
    }
   ],
   "source": [
    "clf_RFC_SQBV = RandomForestClassifier()\n",
    "params = {'n_estimators': list(range(50,60,2))}\n",
    "gs_RFC_SQBV = GridSearchCV(clf_RFC_SQBV, params, cv=5)\n",
    "gs_RFC_SQBV.fit(X_train, y_train)\n",
    "predicted = gs_RFC_SQBV.predict(X_test)\n",
    "\n",
    "print(metrics.classification_report(y_test, predicted))"
   ]
  },
  {
   "cell_type": "markdown",
   "metadata": {},
   "source": [
    "### Feature engineering "
   ]
  },
  {
   "cell_type": "code",
   "execution_count": 29,
   "metadata": {},
   "outputs": [],
   "source": [
    "#Edjefx: Sum of Edjefe and Edjefa\n",
    "#In all cases there is only one value for each\n",
    "data['edjefe'] = data['edjefe'].astype(int)\n",
    "data['edjefa'] = data['edjefa'].astype(int)\n",
    "data['edjefx'] = data[['edjefe', 'edjefa']].sum(axis=1)\n",
    "data.drop(['edjefe', 'edjefa'], axis = 1, inplace=True)"
   ]
  },
  {
   "cell_type": "code",
   "execution_count": 30,
   "metadata": {},
   "outputs": [],
   "source": [
    "data['meanage'] = pd.Series(index=data.index)\n",
    "\n",
    "mean_age = data[['Id','idhogar','age', 'meanage']]\n",
    "me2 = mean_age.groupby('idhogar')['age'].mean().reset_index()\n",
    "\n",
    "data['meanage'] = me2['age']\n",
    "data['meanage'] = data['meanage'].fillna(0)"
   ]
  },
  {
   "cell_type": "code",
   "execution_count": 31,
   "metadata": {},
   "outputs": [],
   "source": [
    "X = data[[\n",
    "    'meaneduc','dependency', 'overcrowding', 'edjefx', 'qmobilephone',\n",
    "     'hogar_nin', 'meanage', 'rooms', 'pisomoscer', 'cielorazo'\n",
    "    ]]\n",
    "y = data['Target']\n",
    "X_train, X_test, y_train, y_test = train_test_split(X, y, test_size=0.2)"
   ]
  },
  {
   "cell_type": "code",
   "execution_count": 32,
   "metadata": {},
   "outputs": [
    {
     "name": "stdout",
     "output_type": "stream",
     "text": [
      "             precision    recall  f1-score   support\n",
      "\n",
      "          1       0.97      0.81      0.88       166\n",
      "          2       0.87      0.89      0.88       315\n",
      "          3       0.89      0.88      0.88       220\n",
      "          4       0.95      0.97      0.96      1211\n",
      "\n",
      "avg / total       0.93      0.93      0.93      1912\n",
      "\n"
     ]
    }
   ],
   "source": [
    "clf_RFC_T12 = RandomForestClassifier()\n",
    "params = {'n_estimators': list(range(50,60,2))}\n",
    "gs_RFC_T12 = GridSearchCV(clf_RFC_T12, params, cv=5)\n",
    "gs_RFC_T12.fit(X_train, y_train)\n",
    "predicted = gs_RFC_T12.predict(X_test)\n",
    "\n",
    "print(metrics.classification_report(y_test, predicted))"
   ]
  },
  {
   "cell_type": "markdown",
   "metadata": {},
   "source": [
    "###### Top 12 Heat Map"
   ]
  },
  {
   "cell_type": "code",
   "execution_count": 33,
   "metadata": {},
   "outputs": [
    {
     "data": {
      "text/plain": [
       "Text(0.5,15,'Predicted label')"
      ]
     },
     "execution_count": 33,
     "metadata": {},
     "output_type": "execute_result"
    },
    {
     "data": {
      "image/png": "[encoded data removed]",
      "text/plain": [
       "<Figure size 432x288 with 2 Axes>"
      ]
     },
     "metadata": {},
     "output_type": "display_data"
    }
   ],
   "source": [
    "conf = pd.DataFrame(metrics.confusion_matrix(y_test, predicted))\n",
    "heatmap = sns.heatmap(conf, annot=True, fmt='d', cmap=\"Blues\")\n",
    "heatmap.yaxis.set_ticklabels(heatmap.yaxis.get_ticklabels(), rotation=0, ha='right', fontsize=14)\n",
    "heatmap.xaxis.set_ticklabels(heatmap.xaxis.get_ticklabels(), rotation=45, ha='right', fontsize=14)\n",
    "plt.ylabel('True label')\n",
    "plt.xlabel('Predicted label')"
   ]
  },
  {
   "cell_type": "markdown",
   "metadata": {},
   "source": [
    "##### Top 12 ROC Curve"
   ]
  },
  {
   "cell_type": "code",
   "execution_count": 34,
   "metadata": {},
   "outputs": [
    {
     "data": {
      "image/png": "[encoded data removed]",
      "text/plain": [
       "<Figure size 432x288 with 1 Axes>"
      ]
     },
     "metadata": {},
     "output_type": "display_data"
    },
    {
     "data": {
      "image/png": "[encoded data removed]",
      "text/plain": [
       "<Figure size 432x288 with 1 Axes>"
      ]
     },
     "metadata": {},
     "output_type": "display_data"
    },
    {
     "data": {
      "image/png": "[encoded data removed]",
      "text/plain": [
       "<Figure size 432x288 with 1 Axes>"
      ]
     },
     "metadata": {},
     "output_type": "display_data"
    },
    {
     "data": {
      "image/png": "[encoded data removed]",
      "text/plain": [
       "<Figure size 432x288 with 1 Axes>"
      ]
     },
     "metadata": {},
     "output_type": "display_data"
    }
   ],
   "source": [
    "y = label_binarize(y, classes=[1,2,3,4])\n",
    "n_classes = 4\n",
    "\n",
    "# shuffle and split training and test sets\n",
    "X_train, X_test, y_train, y_test = train_test_split(X, y, test_size=0.2, random_state=0)\n",
    "\n",
    "# classifier\n",
    "clf = OneVsRestClassifier(RandomForestClassifier(n_estimators = 50,random_state=0))\n",
    "y_score = clf.fit(X_train, y_train).predict_proba(X_test)\n",
    "\n",
    "# Compute ROC curve and ROC area for each class\n",
    "fpr = dict()\n",
    "tpr = dict()\n",
    "roc_auc = dict()\n",
    "for i in range(n_classes):\n",
    "    fpr[i], tpr[i], _ = metrics.roc_curve(y_test[:, i], y_score[:, i])\n",
    "    roc_auc[i] = metrics.auc(fpr[i], tpr[i])\n",
    "\n",
    "# Plot of a ROC curve for a specific class\n",
    "for i in range(n_classes):\n",
    "    plt.figure()\n",
    "    plt.plot(fpr[i], tpr[i], label='ROC curve (area = %0.2f)' % roc_auc[i])\n",
    "    plt.plot([0, 1], [0, 1], 'k--')\n",
    "    plt.xlim([0.0, 1.0])\n",
    "    plt.ylim([0.0, 1.05])\n",
    "    plt.xlabel('False Positive Rate')\n",
    "    plt.ylabel('True Positive Rate')\n",
    "    plt.title('Receiver operating %d' %int(i+1))\n",
    "    plt.legend(loc=\"lower right\")\n",
    "    plt.show()"
   ]
  },
  {
   "cell_type": "markdown",
   "metadata": {},
   "source": [
    "# Conclusions\n",
    "\n",
    "Through our analysis we came to the conclusion that the best classifier for this kind of data is the Random Forest Classifier. Furthermore, through our feature engineering we were able to achieve a better result than thatachieved from the original classifier, 10 features getting a better result than 143. \n",
    "Nevertheless, through our ROC curves and confusion matrix we are able to observe the more specific results of the classifier, we discovered most of the mistakes come from the first 3 levels, this is mainly due to the nature of the data which is loaded on the 4th level. "
   ]
  },
  {
   "cell_type": "markdown",
   "metadata": {},
   "source": [
    "# Further research\n",
    "\n",
    "Further research is needed so as to achieve a better classification rate, those in need deserve this help and a better classification system would mean less people get left behind. Some of our suggestions are:\n",
    "\n",
    "- More feature engineering, focused on reducing the number of features but without lowering the accuracy so as to combat the problem of colecting the data from poverty stricken homes\n",
    "- Including more datasets with more data, such as the wheather this homes are exposed to, their location or others\n",
    "- A more comprehensive analisis of how poverty works, accomanied by more social programs focused on not only giving income to these households but also preparing them through education so they can rise above their situation"
   ]
  },
  {
   "cell_type": "markdown",
   "metadata": {},
   "source": [
    "# Sources:\n",
    "Costa Rican Household Poverty Level Prediction. Kaggle. Visited on: 22/07/2018. Retrieved from: https://www.kaggle.com/c/costa-rican-household-poverty-prediction\n",
    "\n",
    "Mejorando vidas. BID. Visited on: 23/07/2018. Retrieved from:  https://www.iadb.org/es\n",
    "\n",
    "UNICEF (2011) Targeting the Poorest: An assessment of the proxy means test methodology.  Visited on: 23/07/2018. Retrieved from: https://www.unicef.org/socialpolicy/files/targeting-poorest.pdf"
   ]
  }
 ],
 "metadata": {
  "kernelspec": {
   "display_name": "Python 3",
   "language": "python",
   "name": "python3"
  },
  "language_info": {
   "codemirror_mode": {
    "name": "ipython",
    "version": 3
   },
   "file_extension": ".py",
   "mimetype": "text/x-python",
   "name": "python",
   "nbconvert_exporter": "python",
   "pygments_lexer": "ipython3",
   "version": "3.5.6"
  }
 },
 "nbformat": 4,
 "nbformat_minor": 2
}
